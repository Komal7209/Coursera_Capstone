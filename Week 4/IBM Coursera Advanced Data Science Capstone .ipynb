{
 "cells": [
  {
   "cell_type": "markdown",
   "metadata": {},
   "source": [
    "# Classifying Business Documents using Deep Learning\n",
    "## IBM Coursera Advanced Data Science Capstone - Results Demo\n",
    "\n",
    "## Sumudu Tennakoon"
   ]
  },
  {
   "cell_type": "code",
   "execution_count": 1,
   "metadata": {},
   "outputs": [
    {
     "name": "stdout",
     "output_type": "stream",
     "text": [
      "TensorFlow Version:  1.12.0\n"
     ]
    }
   ],
   "source": [
    "import pandas as pd\n",
    "import numpy as np\n",
    "import sys\n",
    "import os\n",
    "import re\n",
    "import matplotlib.pyplot as plt \n",
    "from datetime import date\n",
    "from sklearn.model_selection import train_test_split\n",
    "import tensorflow as tf\n",
    "import tensorflow.keras as keras\n",
    "print('TensorFlow Version: ', tf.__version__)\n",
    "\n",
    "from DocumentClassifierV1 import * # Custom library created for the Capstone project."
   ]
  },
  {
   "cell_type": "markdown",
   "metadata": {},
   "source": [
    "## 1. Read Pre-saved Input dataset (Test Sample-not used in modeling)"
   ]
  },
  {
   "cell_type": "code",
   "execution_count": 2,
   "metadata": {},
   "outputs": [],
   "source": [
    "DocumentFilesData  = pd.read_pickle('Data/DocumentClassification_IBM_ADV_DS_Capstone_TestSample_128x128_20190316.pkl')"
   ]
  },
  {
   "cell_type": "markdown",
   "metadata": {},
   "source": [
    "## 2. Organize Classs Labels"
   ]
  },
  {
   "cell_type": "code",
   "execution_count": 3,
   "metadata": {},
   "outputs": [],
   "source": [
    "ClassLabels = list(DocumentFilesData.FileClass.unique()) "
   ]
  },
  {
   "cell_type": "code",
   "execution_count": 4,
   "metadata": {},
   "outputs": [],
   "source": [
    "ClassNumbers = list(range(len(ClassLabels)))"
   ]
  },
  {
   "cell_type": "code",
   "execution_count": 5,
   "metadata": {},
   "outputs": [
    {
     "name": "stdout",
     "output_type": "stream",
     "text": [
      "[('advertisement', 0), ('handwritten', 1), ('invoice', 2), ('letter', 3), ('resume', 4), ('scientific publication', 5)]\n"
     ]
    }
   ],
   "source": [
    "ClassLabelMap = list((zip(ClassLabels, ClassNumbers)))\n",
    "print(ClassLabelMap)"
   ]
  },
  {
   "cell_type": "code",
   "execution_count": 6,
   "metadata": {},
   "outputs": [],
   "source": [
    "for clm in ClassLabelMap:\n",
    "    DocumentFilesData.loc[DocumentFilesData['FileClass']==clm[0] , 'ClassNumber'] = clm[1]"
   ]
  },
  {
   "cell_type": "markdown",
   "metadata": {},
   "source": [
    "## 3. Separate Features and Response"
   ]
  },
  {
   "cell_type": "code",
   "execution_count": 7,
   "metadata": {},
   "outputs": [],
   "source": [
    "NClasses = len(ClassLabels)\n",
    "imgRows = 128\n",
    "imgCols = 128  "
   ]
  },
  {
   "cell_type": "code",
   "execution_count": 8,
   "metadata": {},
   "outputs": [],
   "source": [
    "X = np.asarray(list(DocumentFilesData['DocumentMatrix'].values), dtype ='int')\n",
    "y = DocumentFilesData['ClassNumber'].values"
   ]
  },
  {
   "cell_type": "code",
   "execution_count": 9,
   "metadata": {},
   "outputs": [
    {
     "name": "stdout",
     "output_type": "stream",
     "text": [
      "(16298, 128, 128)\n",
      "(16298,)\n"
     ]
    }
   ],
   "source": [
    "#Shape of datasets\n",
    "print(X.shape)\n",
    "print(y.shape)"
   ]
  },
  {
   "cell_type": "markdown",
   "metadata": {},
   "source": [
    "## 4. Plot sample image"
   ]
  },
  {
   "cell_type": "code",
   "execution_count": 10,
   "metadata": {},
   "outputs": [
    {
     "data": {
      "text/plain": [
       "<matplotlib.colorbar.Colorbar at 0x7ff0afb8f048>"
      ]
     },
     "execution_count": 10,
     "metadata": {},
     "output_type": "execute_result"
    },
    {
     "data": {
      "image/png": "[encoded data removed]",
      "text/plain": [
       "<Figure size 432x288 with 2 Axes>"
      ]
     },
     "metadata": {
      "needs_background": "light"
     },
     "output_type": "display_data"
    }
   ],
   "source": [
    "#Plot sample image with scale\n",
    "plt.imshow(X[10000])\n",
    "plt.colorbar()"
   ]
  },
  {
   "cell_type": "markdown",
   "metadata": {},
   "source": [
    "## 5. Send data into the Model"
   ]
  },
  {
   "cell_type": "code",
   "execution_count": 11,
   "metadata": {},
   "outputs": [],
   "source": [
    "if keras.backend.image_data_format() == 'channels_first':\n",
    "    X = X.reshape(X.shape[0], 1, imgRows, imgCols)\n",
    "    input_shape = (1, imgRows, imgCols)\n",
    "else:\n",
    "    X = X.reshape(X.shape[0], imgRows, imgCols, 1)\n",
    "    input_shape = (imgRows, imgCols, 1)"
   ]
  },
  {
   "cell_type": "code",
   "execution_count": 12,
   "metadata": {},
   "outputs": [
    {
     "name": "stdout",
     "output_type": "stream",
     "text": [
      "16298 samples\n"
     ]
    }
   ],
   "source": [
    "X = X.astype('float32') #convert interger image tensor to float\n",
    "X = X/255 # Normalize grayscale to a number between 0 and 1\n",
    "print(X.shape[0], 'samples')\n",
    "# Record actuals\n",
    "y_act = y"
   ]
  },
  {
   "cell_type": "code",
   "execution_count": 13,
   "metadata": {},
   "outputs": [],
   "source": [
    "y = keras.utils.to_categorical(y, NClasses)"
   ]
  },
  {
   "cell_type": "code",
   "execution_count": 14,
   "metadata": {},
   "outputs": [],
   "source": [
    "ClassificationModel = TFModel(ModelFile='Models/DocumentClassification_IBM_ADV_DS_Capstone_CNN_V03_128x128_20190316.pkl', Model=keras.models.load_model('Models/DocumentClassification_IBM_ADV_DS_Capstone_CNN_V03_128x128_20190316.h5'))"
   ]
  },
  {
   "cell_type": "code",
   "execution_count": 15,
   "metadata": {},
   "outputs": [],
   "source": [
    "Output = ClassificationModel.Classify(InputFiles=X, size=(imgRows,imgCols), ActualClasses=list(y_act),\n",
    "                                      ReturnImageMatrix=True, ReturnJSON=False, ReturnFullPath=True, TransformedData=True)"
   ]
  },
  {
   "cell_type": "markdown",
   "metadata": {},
   "source": [
    "## 6. Proces output"
   ]
  },
  {
   "cell_type": "code",
   "execution_count": 16,
   "metadata": {},
   "outputs": [],
   "source": [
    "Output['actual'] = Output['actual'].astype('int')"
   ]
  },
  {
   "cell_type": "code",
   "execution_count": 17,
   "metadata": {},
   "outputs": [],
   "source": [
    "for clm in ClassLabelMap:\n",
    "    Output.loc[Output['actual']==clm[1] , 'actual'] = clm[0]"
   ]
  },
  {
   "cell_type": "code",
   "execution_count": 18,
   "metadata": {},
   "outputs": [
    {
     "data": {
      "text/html": [
       "<div>\n",
       "<style scoped>\n",
       "    .dataframe tbody tr th:only-of-type {\n",
       "        vertical-align: middle;\n",
       "    }\n",
       "\n",
       "    .dataframe tbody tr th {\n",
       "        vertical-align: top;\n",
       "    }\n",
       "\n",
       "    .dataframe thead th {\n",
       "        text-align: right;\n",
       "    }\n",
       "</style>\n",
       "<table border=\"1\" class=\"dataframe\">\n",
       "  <thead>\n",
       "    <tr style=\"text-align: right;\">\n",
       "      <th></th>\n",
       "      <th>filename</th>\n",
       "      <th>actual</th>\n",
       "      <th>prediction</th>\n",
       "      <th>probability</th>\n",
       "      <th>advertisement</th>\n",
       "      <th>handwritten</th>\n",
       "      <th>invoice</th>\n",
       "      <th>letter</th>\n",
       "      <th>resume</th>\n",
       "      <th>scientific publication</th>\n",
       "      <th>image</th>\n",
       "    </tr>\n",
       "  </thead>\n",
       "  <tbody>\n",
       "    <tr>\n",
       "      <th>0</th>\n",
       "      <td></td>\n",
       "      <td>advertisement</td>\n",
       "      <td>advertisement</td>\n",
       "      <td>1.000000</td>\n",
       "      <td>1.000000</td>\n",
       "      <td>5.063637e-16</td>\n",
       "      <td>8.690148e-14</td>\n",
       "      <td>9.290668e-17</td>\n",
       "      <td>6.617022e-21</td>\n",
       "      <td>4.106039e-14</td>\n",
       "      <td>[[1.0, 1.0, 1.0, 1.0, 0.99215686, 0.972549, 0....</td>\n",
       "    </tr>\n",
       "    <tr>\n",
       "      <th>1</th>\n",
       "      <td></td>\n",
       "      <td>advertisement</td>\n",
       "      <td>advertisement</td>\n",
       "      <td>1.000000</td>\n",
       "      <td>1.000000</td>\n",
       "      <td>2.330656e-22</td>\n",
       "      <td>1.572528e-19</td>\n",
       "      <td>2.069340e-23</td>\n",
       "      <td>1.100756e-29</td>\n",
       "      <td>2.149585e-21</td>\n",
       "      <td>[[1.0, 1.0, 0.99607843, 1.0, 1.0, 0.99607843, ...</td>\n",
       "    </tr>\n",
       "    <tr>\n",
       "      <th>2</th>\n",
       "      <td></td>\n",
       "      <td>advertisement</td>\n",
       "      <td>advertisement</td>\n",
       "      <td>1.000000</td>\n",
       "      <td>1.000000</td>\n",
       "      <td>4.791157e-16</td>\n",
       "      <td>5.554594e-13</td>\n",
       "      <td>1.064234e-16</td>\n",
       "      <td>1.399147e-19</td>\n",
       "      <td>2.178409e-15</td>\n",
       "      <td>[[0.3372549, 0.92156863, 1.0, 1.0, 1.0, 1.0, 1...</td>\n",
       "    </tr>\n",
       "    <tr>\n",
       "      <th>3</th>\n",
       "      <td></td>\n",
       "      <td>advertisement</td>\n",
       "      <td>advertisement</td>\n",
       "      <td>1.000000</td>\n",
       "      <td>1.000000</td>\n",
       "      <td>4.083911e-11</td>\n",
       "      <td>3.346294e-11</td>\n",
       "      <td>1.050855e-11</td>\n",
       "      <td>3.322009e-14</td>\n",
       "      <td>3.328225e-10</td>\n",
       "      <td>[[0.6039216, 0.6509804, 0.65882355, 0.6392157,...</td>\n",
       "    </tr>\n",
       "    <tr>\n",
       "      <th>4</th>\n",
       "      <td></td>\n",
       "      <td>advertisement</td>\n",
       "      <td>advertisement</td>\n",
       "      <td>0.999995</td>\n",
       "      <td>0.999995</td>\n",
       "      <td>8.333130e-07</td>\n",
       "      <td>3.941132e-06</td>\n",
       "      <td>2.784736e-08</td>\n",
       "      <td>8.344550e-09</td>\n",
       "      <td>3.533234e-07</td>\n",
       "      <td>[[1.0, 1.0, 0.99215686, 0.98039216, 1.0, 1.0, ...</td>\n",
       "    </tr>\n",
       "  </tbody>\n",
       "</table>\n",
       "</div>"
      ],
      "text/plain": [
       "  filename         actual     prediction  probability  advertisement  \\\n",
       "0           advertisement  advertisement     1.000000       1.000000   \n",
       "1           advertisement  advertisement     1.000000       1.000000   \n",
       "2           advertisement  advertisement     1.000000       1.000000   \n",
       "3           advertisement  advertisement     1.000000       1.000000   \n",
       "4           advertisement  advertisement     0.999995       0.999995   \n",
       "\n",
       "    handwritten       invoice        letter        resume  \\\n",
       "0  5.063637e-16  8.690148e-14  9.290668e-17  6.617022e-21   \n",
       "1  2.330656e-22  1.572528e-19  2.069340e-23  1.100756e-29   \n",
       "2  4.791157e-16  5.554594e-13  1.064234e-16  1.399147e-19   \n",
       "3  4.083911e-11  3.346294e-11  1.050855e-11  3.322009e-14   \n",
       "4  8.333130e-07  3.941132e-06  2.784736e-08  8.344550e-09   \n",
       "\n",
       "   scientific publication                                              image  \n",
       "0            4.106039e-14  [[1.0, 1.0, 1.0, 1.0, 0.99215686, 0.972549, 0....  \n",
       "1            2.149585e-21  [[1.0, 1.0, 0.99607843, 1.0, 1.0, 0.99607843, ...  \n",
       "2            2.178409e-15  [[0.3372549, 0.92156863, 1.0, 1.0, 1.0, 1.0, 1...  \n",
       "3            3.328225e-10  [[0.6039216, 0.6509804, 0.65882355, 0.6392157,...  \n",
       "4            3.533234e-07  [[1.0, 1.0, 0.99215686, 0.98039216, 1.0, 1.0, ...  "
      ]
     },
     "execution_count": 18,
     "metadata": {},
     "output_type": "execute_result"
    }
   ],
   "source": [
    "Output.head()"
   ]
  },
  {
   "cell_type": "markdown",
   "metadata": {},
   "source": [
    "## 7. Performance Evaluation"
   ]
  },
  {
   "cell_type": "markdown",
   "metadata": {},
   "source": [
    "### Confusion Matrix"
   ]
  },
  {
   "cell_type": "code",
   "execution_count": 19,
   "metadata": {},
   "outputs": [],
   "source": [
    "cf = pd.crosstab(Output.actual, Output.prediction, margins=True)"
   ]
  },
  {
   "cell_type": "code",
   "execution_count": 20,
   "metadata": {},
   "outputs": [
    {
     "data": {
      "text/html": [
       "<div>\n",
       "<style scoped>\n",
       "    .dataframe tbody tr th:only-of-type {\n",
       "        vertical-align: middle;\n",
       "    }\n",
       "\n",
       "    .dataframe tbody tr th {\n",
       "        vertical-align: top;\n",
       "    }\n",
       "\n",
       "    .dataframe thead th {\n",
       "        text-align: right;\n",
       "    }\n",
       "</style>\n",
       "<table border=\"1\" class=\"dataframe\">\n",
       "  <thead>\n",
       "    <tr style=\"text-align: right;\">\n",
       "      <th>prediction</th>\n",
       "      <th>advertisement</th>\n",
       "      <th>handwritten</th>\n",
       "      <th>invoice</th>\n",
       "      <th>letter</th>\n",
       "      <th>resume</th>\n",
       "      <th>scientific publication</th>\n",
       "      <th>All</th>\n",
       "    </tr>\n",
       "    <tr>\n",
       "      <th>actual</th>\n",
       "      <th></th>\n",
       "      <th></th>\n",
       "      <th></th>\n",
       "      <th></th>\n",
       "      <th></th>\n",
       "      <th></th>\n",
       "      <th></th>\n",
       "    </tr>\n",
       "  </thead>\n",
       "  <tbody>\n",
       "    <tr>\n",
       "      <th>advertisement</th>\n",
       "      <td>2430</td>\n",
       "      <td>23</td>\n",
       "      <td>73</td>\n",
       "      <td>13</td>\n",
       "      <td>5</td>\n",
       "      <td>63</td>\n",
       "      <td>2607</td>\n",
       "    </tr>\n",
       "    <tr>\n",
       "      <th>handwritten</th>\n",
       "      <td>27</td>\n",
       "      <td>2375</td>\n",
       "      <td>96</td>\n",
       "      <td>47</td>\n",
       "      <td>13</td>\n",
       "      <td>17</td>\n",
       "      <td>2575</td>\n",
       "    </tr>\n",
       "    <tr>\n",
       "      <th>invoice</th>\n",
       "      <td>41</td>\n",
       "      <td>56</td>\n",
       "      <td>2545</td>\n",
       "      <td>142</td>\n",
       "      <td>22</td>\n",
       "      <td>34</td>\n",
       "      <td>2840</td>\n",
       "    </tr>\n",
       "    <tr>\n",
       "      <th>letter</th>\n",
       "      <td>22</td>\n",
       "      <td>51</td>\n",
       "      <td>180</td>\n",
       "      <td>2437</td>\n",
       "      <td>75</td>\n",
       "      <td>67</td>\n",
       "      <td>2832</td>\n",
       "    </tr>\n",
       "    <tr>\n",
       "      <th>resume</th>\n",
       "      <td>2</td>\n",
       "      <td>9</td>\n",
       "      <td>37</td>\n",
       "      <td>109</td>\n",
       "      <td>2455</td>\n",
       "      <td>35</td>\n",
       "      <td>2647</td>\n",
       "    </tr>\n",
       "    <tr>\n",
       "      <th>scientific publication</th>\n",
       "      <td>35</td>\n",
       "      <td>9</td>\n",
       "      <td>75</td>\n",
       "      <td>41</td>\n",
       "      <td>30</td>\n",
       "      <td>2607</td>\n",
       "      <td>2797</td>\n",
       "    </tr>\n",
       "    <tr>\n",
       "      <th>All</th>\n",
       "      <td>2557</td>\n",
       "      <td>2523</td>\n",
       "      <td>3006</td>\n",
       "      <td>2789</td>\n",
       "      <td>2600</td>\n",
       "      <td>2823</td>\n",
       "      <td>16298</td>\n",
       "    </tr>\n",
       "  </tbody>\n",
       "</table>\n",
       "</div>"
      ],
      "text/plain": [
       "prediction              advertisement  handwritten  invoice  letter  resume  \\\n",
       "actual                                                                        \n",
       "advertisement                    2430           23       73      13       5   \n",
       "handwritten                        27         2375       96      47      13   \n",
       "invoice                            41           56     2545     142      22   \n",
       "letter                             22           51      180    2437      75   \n",
       "resume                              2            9       37     109    2455   \n",
       "scientific publication             35            9       75      41      30   \n",
       "All                              2557         2523     3006    2789    2600   \n",
       "\n",
       "prediction              scientific publication    All  \n",
       "actual                                                 \n",
       "advertisement                               63   2607  \n",
       "handwritten                                 17   2575  \n",
       "invoice                                     34   2840  \n",
       "letter                                      67   2832  \n",
       "resume                                      35   2647  \n",
       "scientific publication                    2607   2797  \n",
       "All                                       2823  16298  "
      ]
     },
     "execution_count": 20,
     "metadata": {},
     "output_type": "execute_result"
    }
   ],
   "source": [
    "cf"
   ]
  },
  {
   "cell_type": "code",
   "execution_count": 21,
   "metadata": {},
   "outputs": [
    {
     "data": {
      "text/plain": [
       "<matplotlib.axes._subplots.AxesSubplot at 0x7fefa8b27668>"
      ]
     },
     "execution_count": 21,
     "metadata": {},
     "output_type": "execute_result"
    },
    {
     "data": {
      "image/png": "[encoded data removed]",
      "text/plain": [
       "<Figure size 432x288 with 2 Axes>"
      ]
     },
     "metadata": {
      "needs_background": "light"
     },
     "output_type": "display_data"
    }
   ],
   "source": [
    "import seaborn as sns\n",
    "sns.heatmap(pd.crosstab(Output.actual, Output.prediction, margins=False), annot=True)"
   ]
  },
  {
   "cell_type": "markdown",
   "metadata": {},
   "source": [
    "### Accuracy"
   ]
  },
  {
   "cell_type": "code",
   "execution_count": 22,
   "metadata": {},
   "outputs": [
    {
     "name": "stdout",
     "output_type": "stream",
     "text": [
      "CorrectPredictions= 14849\n",
      "TotalDocuments= 16298\n",
      "Accuracy= 0.9110933856914959\n"
     ]
    }
   ],
   "source": [
    "CorrectPredictions = np.sum(np.diagonal(pd.crosstab(Output.actual, Output.prediction, margins=False).values))\n",
    "TotalDocuments = np.sum(pd.crosstab(Output.actual, Output.prediction, margins=False).values)\n",
    "Accuracy = CorrectPredictions/TotalDocuments\n",
    "print('CorrectPredictions= {}'.format(CorrectPredictions))\n",
    "print('TotalDocuments= {}'.format(TotalDocuments))\n",
    "print('Accuracy= {}'.format(Accuracy))"
   ]
  },
  {
   "cell_type": "markdown",
   "metadata": {},
   "source": [
    "### Model Robustness"
   ]
  },
  {
   "cell_type": "code",
   "execution_count": 23,
   "metadata": {},
   "outputs": [],
   "source": [
    "bins=np.array([0.0, 0.1, 0.2, 0.3, 0.4, 0.5, 0.6, 0.7, 0.8, 0.9, 1.0])\n",
    "labels=np.array([ 0.1, 0.2, 0.3, 0.4, 0.5, 0.6, 0.7, 0.8, 0.9, 1.0])\n",
    "Output['MaxProbabilityScore']=pd.cut(Output.probability, bins=bins) #, labels=labels)\n",
    "Output['PredictedCorrect'] = np.where(Output['actual']==Output['prediction'], 1, 0)\n",
    "\n",
    "Robustness = Output.groupby(by='MaxProbabilityScore').agg({'probability':'mean', 'PredictedCorrect':'sum', 'filename':'count'})\n",
    "Robustness.columns = ['MeanProbability', 'PredictedCorrect', 'BucketCount']\n",
    "Robustness['BucketPrecision']=Robustness['PredictedCorrect']/Robustness['BucketCount']\n",
    "Robustness['BucketFraction']=Robustness['BucketCount']/(Robustness['BucketCount'].sum())"
   ]
  },
  {
   "cell_type": "code",
   "execution_count": 24,
   "metadata": {
    "scrolled": false
   },
   "outputs": [
    {
     "data": {
      "text/html": [
       "<div>\n",
       "<style scoped>\n",
       "    .dataframe tbody tr th:only-of-type {\n",
       "        vertical-align: middle;\n",
       "    }\n",
       "\n",
       "    .dataframe tbody tr th {\n",
       "        vertical-align: top;\n",
       "    }\n",
       "\n",
       "    .dataframe thead th {\n",
       "        text-align: right;\n",
       "    }\n",
       "</style>\n",
       "<table border=\"1\" class=\"dataframe\">\n",
       "  <thead>\n",
       "    <tr style=\"text-align: right;\">\n",
       "      <th></th>\n",
       "      <th>MeanProbability</th>\n",
       "      <th>PredictedCorrect</th>\n",
       "      <th>BucketCount</th>\n",
       "      <th>BucketPrecision</th>\n",
       "      <th>BucketFraction</th>\n",
       "    </tr>\n",
       "    <tr>\n",
       "      <th>MaxProbabilityScore</th>\n",
       "      <th></th>\n",
       "      <th></th>\n",
       "      <th></th>\n",
       "      <th></th>\n",
       "      <th></th>\n",
       "    </tr>\n",
       "  </thead>\n",
       "  <tbody>\n",
       "    <tr>\n",
       "      <th>(0.0, 0.1]</th>\n",
       "      <td>NaN</td>\n",
       "      <td>0</td>\n",
       "      <td>0</td>\n",
       "      <td>NaN</td>\n",
       "      <td>0.000000</td>\n",
       "    </tr>\n",
       "    <tr>\n",
       "      <th>(0.1, 0.2]</th>\n",
       "      <td>NaN</td>\n",
       "      <td>0</td>\n",
       "      <td>0</td>\n",
       "      <td>NaN</td>\n",
       "      <td>0.000000</td>\n",
       "    </tr>\n",
       "    <tr>\n",
       "      <th>(0.2, 0.3]</th>\n",
       "      <td>0.295488</td>\n",
       "      <td>1</td>\n",
       "      <td>1</td>\n",
       "      <td>1.000000</td>\n",
       "      <td>0.000061</td>\n",
       "    </tr>\n",
       "    <tr>\n",
       "      <th>(0.3, 0.4]</th>\n",
       "      <td>0.364005</td>\n",
       "      <td>5</td>\n",
       "      <td>27</td>\n",
       "      <td>0.185185</td>\n",
       "      <td>0.001657</td>\n",
       "    </tr>\n",
       "    <tr>\n",
       "      <th>(0.4, 0.5]</th>\n",
       "      <td>0.452881</td>\n",
       "      <td>37</td>\n",
       "      <td>91</td>\n",
       "      <td>0.406593</td>\n",
       "      <td>0.005584</td>\n",
       "    </tr>\n",
       "    <tr>\n",
       "      <th>(0.5, 0.6]</th>\n",
       "      <td>0.546791</td>\n",
       "      <td>81</td>\n",
       "      <td>215</td>\n",
       "      <td>0.376744</td>\n",
       "      <td>0.013192</td>\n",
       "    </tr>\n",
       "    <tr>\n",
       "      <th>(0.6, 0.7]</th>\n",
       "      <td>0.651152</td>\n",
       "      <td>99</td>\n",
       "      <td>198</td>\n",
       "      <td>0.500000</td>\n",
       "      <td>0.012149</td>\n",
       "    </tr>\n",
       "    <tr>\n",
       "      <th>(0.7, 0.8]</th>\n",
       "      <td>0.753281</td>\n",
       "      <td>119</td>\n",
       "      <td>230</td>\n",
       "      <td>0.517391</td>\n",
       "      <td>0.014112</td>\n",
       "    </tr>\n",
       "    <tr>\n",
       "      <th>(0.8, 0.9]</th>\n",
       "      <td>0.856049</td>\n",
       "      <td>215</td>\n",
       "      <td>371</td>\n",
       "      <td>0.579515</td>\n",
       "      <td>0.022764</td>\n",
       "    </tr>\n",
       "    <tr>\n",
       "      <th>(0.9, 1.0]</th>\n",
       "      <td>0.997278</td>\n",
       "      <td>14292</td>\n",
       "      <td>15165</td>\n",
       "      <td>0.942433</td>\n",
       "      <td>0.930482</td>\n",
       "    </tr>\n",
       "  </tbody>\n",
       "</table>\n",
       "</div>"
      ],
      "text/plain": [
       "                     MeanProbability  PredictedCorrect  BucketCount  \\\n",
       "MaxProbabilityScore                                                   \n",
       "(0.0, 0.1]                       NaN                 0            0   \n",
       "(0.1, 0.2]                       NaN                 0            0   \n",
       "(0.2, 0.3]                  0.295488                 1            1   \n",
       "(0.3, 0.4]                  0.364005                 5           27   \n",
       "(0.4, 0.5]                  0.452881                37           91   \n",
       "(0.5, 0.6]                  0.546791                81          215   \n",
       "(0.6, 0.7]                  0.651152                99          198   \n",
       "(0.7, 0.8]                  0.753281               119          230   \n",
       "(0.8, 0.9]                  0.856049               215          371   \n",
       "(0.9, 1.0]                  0.997278             14292        15165   \n",
       "\n",
       "                     BucketPrecision  BucketFraction  \n",
       "MaxProbabilityScore                                   \n",
       "(0.0, 0.1]                       NaN        0.000000  \n",
       "(0.1, 0.2]                       NaN        0.000000  \n",
       "(0.2, 0.3]                  1.000000        0.000061  \n",
       "(0.3, 0.4]                  0.185185        0.001657  \n",
       "(0.4, 0.5]                  0.406593        0.005584  \n",
       "(0.5, 0.6]                  0.376744        0.013192  \n",
       "(0.6, 0.7]                  0.500000        0.012149  \n",
       "(0.7, 0.8]                  0.517391        0.014112  \n",
       "(0.8, 0.9]                  0.579515        0.022764  \n",
       "(0.9, 1.0]                  0.942433        0.930482  "
      ]
     },
     "execution_count": 24,
     "metadata": {},
     "output_type": "execute_result"
    }
   ],
   "source": [
    "Robustness"
   ]
  },
  {
   "cell_type": "markdown",
   "metadata": {},
   "source": [
    "## 8. Run the model on sample Image file\n"
   ]
  },
  {
   "cell_type": "code",
   "execution_count": 25,
   "metadata": {},
   "outputs": [],
   "source": [
    "InputFiles = ['Data/test1.png']\n",
    "Output_single = ClassificationModel.Classify(InputFiles=InputFiles, size=(imgRows,imgCols), ActualClasses=None,\n",
    "                                  ReturnImageMatrix=True, ReturnJSON=True, ReturnFullPath=False, TransformedData=False)"
   ]
  },
  {
   "cell_type": "code",
   "execution_count": 26,
   "metadata": {},
   "outputs": [
    {
     "data": {
      "text/plain": [
       "[{'filename': 'test1.png',\n",
       "  'actual': None,\n",
       "  'prediction': 'letter',\n",
       "  'probability': 0.8929004,\n",
       "  'classes': [{'class': 'advertisement', 'score': 2.2899491e-09},\n",
       "   {'class': 'handwritten', 'score': 3.0054548e-07},\n",
       "   {'class': 'invoice', 'score': 3.233218e-08},\n",
       "   {'class': 'letter', 'score': 0.8929004},\n",
       "   {'class': 'resume', 'score': 0.00031701275},\n",
       "   {'class': 'scientific publication', 'score': 0.10678229}],\n",
       "  'image': array([[1., 1., 1., ..., 1., 1., 1.],\n",
       "         [1., 1., 1., ..., 1., 1., 1.],\n",
       "         [1., 1., 1., ..., 1., 1., 1.],\n",
       "         ...,\n",
       "         [1., 1., 1., ..., 1., 1., 1.],\n",
       "         [1., 1., 1., ..., 1., 1., 1.],\n",
       "         [1., 1., 1., ..., 1., 1., 1.]], dtype=float32)}]"
      ]
     },
     "execution_count": 26,
     "metadata": {},
     "output_type": "execute_result"
    }
   ],
   "source": [
    "Output_single"
   ]
  },
  {
   "cell_type": "code",
   "execution_count": 27,
   "metadata": {},
   "outputs": [
    {
     "data": {
      "image/png": "[encoded data removed]",
      "text/plain": [
       "<Figure size 720x432 with 2 Axes>"
      ]
     },
     "metadata": {
      "needs_background": "light"
     },
     "output_type": "display_data"
    }
   ],
   "source": [
    "OutputDashboard = Dashboard()\n",
    "fig = OutputDashboard.ImageOutput(Output_single, NSamples=1, Format='JSON', ClassLabels=ClassificationModel.ClassLabels)\n",
    "plt.show()"
   ]
  },
  {
   "cell_type": "markdown",
   "metadata": {},
   "source": [
    "<hr>\n",
    "<p> This notebook and related materials were developed by <b> Sumudu Tennakoon</b> for the capstone project in partial fulfillment of the requirements for the <b> Advanced Data Science with IBM Specialization</b>. <br>\n",
    "March 2019. <br>\n",
    "Apache License, Version 2.0 (http://www.apache.org/licenses/LICENSE-2.0)</p>\n"
   ]
  },
  {
   "cell_type": "code",
   "execution_count": null,
   "metadata": {},
   "outputs": [],
   "source": []
  }
 ],
 "metadata": {
  "kernelspec": {
   "display_name": "Python 3",
   "language": "python",
   "name": "python3"
  },
  "language_info": {
   "codemirror_mode": {
    "name": "ipython",
    "version": 3
   },
   "file_extension": ".py",
   "mimetype": "text/x-python",
   "name": "python",
   "nbconvert_exporter": "python",
   "pygments_lexer": "ipython3",
   "version": "3.6.7"
  }
 },
 "nbformat": 4,
 "nbformat_minor": 2
}
